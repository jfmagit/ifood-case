{
 "cells": [
  {
   "cell_type": "markdown",
   "metadata": {
    "application/vnd.databricks.v1+cell": {
     "cellMetadata": {},
     "inputWidgets": {},
     "nuid": "8a3d1140-1597-42a1-b9e8-154a286ea715",
     "showTitle": false,
     "tableResultSettingsMap": {},
     "title": ""
    }
   },
   "source": [
    "As respostas da **Questão 1** (\"Qual a média de valor total (total\\_amount) recebido em um mês\n",
    "considerando todos os yellow táxis da frota?\") estão na **célula 6** e as respostas da **questão 2** (\"Qual a média de passageiros (passenger\\_count) por cada hora do dia\n",
    "que pegaram táxi no mês de maio considerando todos os táxis da\n",
    "frota?\") estão na **célula 32 (ultima célula)** . \n",
    "\n",
    "deixo todas as análises feitas para avaliarem a linha de raciocínio.\n",
    "\n",
    "Obrigado por avaliarem!"
   ]
  },
  {
   "cell_type": "code",
   "execution_count": 0,
   "metadata": {
    "application/vnd.databricks.v1+cell": {
     "cellMetadata": {
      "byteLimit": 2048000,
      "implicitDf": true,
      "rowLimit": 10000
     },
     "inputWidgets": {},
     "nuid": "90bde8bc-8626-416c-b34b-7f38c60c97ce",
     "showTitle": false,
     "tableResultSettingsMap": {},
     "title": ""
    }
   },
   "outputs": [
    {
     "output_type": "display_data",
     "data": {
      "text/html": [
       "<style scoped>\n",
       "  .table-result-container {\n",
       "    max-height: 300px;\n",
       "    overflow: auto;\n",
       "  }\n",
       "  table, th, td {\n",
       "    border: 1px solid black;\n",
       "    border-collapse: collapse;\n",
       "  }\n",
       "  th, td {\n",
       "    padding: 5px;\n",
       "  }\n",
       "  th {\n",
       "    text-align: left;\n",
       "  }\n",
       "</style><div class='table-result-container'><table class='table-result'><thead style='background-color: white'><tr><th>VendorID</th><th>passenger_count</th><th>total_amount</th><th>tpep_pickup_datetime</th><th>tpep_dropoff_datetime</th><th>taxi_color</th></tr></thead><tbody><tr><td>2</td><td>1.0</td><td>11.1</td><td>2023-03-01T00:06:43.000Z</td><td>2023-03-01T00:16:43.000Z</td><td>yellow_taxi</td></tr><tr><td>2</td><td>2.0</td><td>76.49</td><td>2023-03-01T00:08:25.000Z</td><td>2023-03-01T00:39:30.000Z</td><td>yellow_taxi</td></tr><tr><td>1</td><td>0.0</td><td>28.05</td><td>2023-03-01T00:15:04.000Z</td><td>2023-03-01T00:29:26.000Z</td><td>yellow_taxi</td></tr><tr><td>1</td><td>1.0</td><td>24.7</td><td>2023-03-01T00:49:37.000Z</td><td>2023-03-01T01:01:05.000Z</td><td>yellow_taxi</td></tr><tr><td>2</td><td>1.0</td><td>14.64</td><td>2023-03-01T00:08:04.000Z</td><td>2023-03-01T00:11:06.000Z</td><td>yellow_taxi</td></tr></tbody></table></div>"
      ]
     },
     "metadata": {
      "application/vnd.databricks.v1+output": {
       "addedWidgets": {},
       "aggData": [],
       "aggError": "",
       "aggOverflow": false,
       "aggSchema": [],
       "aggSeriesLimitReached": false,
       "aggType": "",
       "arguments": {},
       "columnCustomDisplayInfos": {},
       "data": [
        [
         2,
         1.0,
         11.1,
         "2023-03-01T00:06:43.000Z",
         "2023-03-01T00:16:43.000Z",
         "yellow_taxi"
        ],
        [
         2,
         2.0,
         76.49,
         "2023-03-01T00:08:25.000Z",
         "2023-03-01T00:39:30.000Z",
         "yellow_taxi"
        ],
        [
         1,
         0.0,
         28.05,
         "2023-03-01T00:15:04.000Z",
         "2023-03-01T00:29:26.000Z",
         "yellow_taxi"
        ],
        [
         1,
         1.0,
         24.7,
         "2023-03-01T00:49:37.000Z",
         "2023-03-01T01:01:05.000Z",
         "yellow_taxi"
        ],
        [
         2,
         1.0,
         14.64,
         "2023-03-01T00:08:04.000Z",
         "2023-03-01T00:11:06.000Z",
         "yellow_taxi"
        ]
       ],
       "datasetInfos": [
        {
         "name": "_sqldf",
         "schema": {
          "fields": [
           {
            "metadata": {},
            "name": "VendorID",
            "nullable": true,
            "type": "long"
           },
           {
            "metadata": {},
            "name": "passenger_count",
            "nullable": true,
            "type": "double"
           },
           {
            "metadata": {},
            "name": "total_amount",
            "nullable": true,
            "type": "double"
           },
           {
            "metadata": {},
            "name": "tpep_pickup_datetime",
            "nullable": true,
            "type": "timestamp"
           },
           {
            "metadata": {},
            "name": "tpep_dropoff_datetime",
            "nullable": true,
            "type": "timestamp"
           },
           {
            "metadata": {},
            "name": "taxi_color",
            "nullable": true,
            "type": "string"
           }
          ],
          "type": "struct"
         },
         "tableIdentifier": null,
         "typeStr": "pyspark.sql.connect.dataframe.DataFrame"
        }
       ],
       "dbfsResultPath": null,
       "isJsonSchema": true,
       "metadata": {
        "createTempViewForImplicitDf": true,
        "dataframeName": "_sqldf",
        "executionCount": 3
       },
       "overflow": false,
       "plotOptions": {
        "customPlotOptions": {},
        "displayType": "table",
        "pivotAggregation": null,
        "pivotColumns": null,
        "xColumns": null,
        "yColumns": null
       },
       "removedWidgets": [],
       "schema": [
        {
         "metadata": "{}",
         "name": "VendorID",
         "type": "\"long\""
        },
        {
         "metadata": "{}",
         "name": "passenger_count",
         "type": "\"double\""
        },
        {
         "metadata": "{}",
         "name": "total_amount",
         "type": "\"double\""
        },
        {
         "metadata": "{}",
         "name": "tpep_pickup_datetime",
         "type": "\"timestamp\""
        },
        {
         "metadata": "{}",
         "name": "tpep_dropoff_datetime",
         "type": "\"timestamp\""
        },
        {
         "metadata": "{}",
         "name": "taxi_color",
         "type": "\"string\""
        }
       ],
       "type": "table"
      }
     },
     "output_type": "display_data"
    }
   ],
   "source": [
    "%sql\n",
    "select * from curated_nyc_taxi.yellow_taxi_curated\n",
    "limit 5"
   ]
  },
  {
   "cell_type": "markdown",
   "metadata": {
    "application/vnd.databricks.v1+cell": {
     "cellMetadata": {},
     "inputWidgets": {},
     "nuid": "f7d0521f-9ff1-431c-957e-1b445bfb4304",
     "showTitle": false,
     "tableResultSettingsMap": {},
     "title": ""
    }
   },
   "source": [
    "**Verificando se há nulos no total_amount do yellow taxi**"
   ]
  },
  {
   "cell_type": "code",
   "execution_count": 0,
   "metadata": {
    "application/vnd.databricks.v1+cell": {
     "cellMetadata": {
      "byteLimit": 2048000,
      "implicitDf": true,
      "rowLimit": 10000
     },
     "inputWidgets": {},
     "nuid": "1ae839a7-608c-4262-b011-682b38c9fd67",
     "showTitle": false,
     "tableResultSettingsMap": {},
     "title": ""
    }
   },
   "outputs": [
    {
     "output_type": "display_data",
     "data": {
      "text/html": [
       "<style scoped>\n",
       "  .table-result-container {\n",
       "    max-height: 300px;\n",
       "    overflow: auto;\n",
       "  }\n",
       "  table, th, td {\n",
       "    border: 1px solid black;\n",
       "    border-collapse: collapse;\n",
       "  }\n",
       "  th, td {\n",
       "    padding: 5px;\n",
       "  }\n",
       "  th {\n",
       "    text-align: left;\n",
       "  }\n",
       "</style><div class='table-result-container'><table class='table-result'><thead style='background-color: white'><tr><th>count(1)</th></tr></thead><tbody><tr><td>0</td></tr></tbody></table></div>"
      ]
     },
     "metadata": {
      "application/vnd.databricks.v1+output": {
       "addedWidgets": {},
       "aggData": [],
       "aggError": "",
       "aggOverflow": false,
       "aggSchema": [],
       "aggSeriesLimitReached": false,
       "aggType": "",
       "arguments": {},
       "columnCustomDisplayInfos": {},
       "data": [
        [
         0
        ]
       ],
       "datasetInfos": [
        {
         "name": "_sqldf",
         "schema": {
          "fields": [
           {
            "metadata": {},
            "name": "count(1)",
            "nullable": false,
            "type": "long"
           }
          ],
          "type": "struct"
         },
         "tableIdentifier": null,
         "typeStr": "pyspark.sql.connect.dataframe.DataFrame"
        }
       ],
       "dbfsResultPath": null,
       "isJsonSchema": true,
       "metadata": {
        "createTempViewForImplicitDf": true,
        "dataframeName": "_sqldf",
        "executionCount": 4
       },
       "overflow": false,
       "plotOptions": {
        "customPlotOptions": {},
        "displayType": "table",
        "pivotAggregation": null,
        "pivotColumns": null,
        "xColumns": null,
        "yColumns": null
       },
       "removedWidgets": [],
       "schema": [
        {
         "metadata": "{}",
         "name": "count(1)",
         "type": "\"long\""
        }
       ],
       "type": "table"
      }
     },
     "output_type": "display_data"
    }
   ],
   "source": [
    "%sql\n",
    "select\n",
    "count(1)\n",
    "from curated_nyc_taxi.yellow_taxi_curated\n",
    "where total_amount is null"
   ]
  },
  {
   "cell_type": "markdown",
   "metadata": {
    "application/vnd.databricks.v1+cell": {
     "cellMetadata": {},
     "inputWidgets": {},
     "nuid": "6e8d21bb-10c4-4b18-af94-6d31cd08f21c",
     "showTitle": false,
     "tableResultSettingsMap": {},
     "title": ""
    }
   },
   "source": [
    "Resolução Q1"
   ]
  },
  {
   "cell_type": "code",
   "execution_count": 0,
   "metadata": {
    "application/vnd.databricks.v1+cell": {
     "cellMetadata": {
      "byteLimit": 2048000,
      "implicitDf": true,
      "rowLimit": 10000
     },
     "inputWidgets": {},
     "nuid": "492e9709-65ef-4e42-8106-1215c28ebaa9",
     "showTitle": false,
     "tableResultSettingsMap": {},
     "title": ""
    }
   },
   "outputs": [
    {
     "output_type": "display_data",
     "data": {
      "text/html": [
       "<style scoped>\n",
       "  .table-result-container {\n",
       "    max-height: 300px;\n",
       "    overflow: auto;\n",
       "  }\n",
       "  table, th, td {\n",
       "    border: 1px solid black;\n",
       "    border-collapse: collapse;\n",
       "  }\n",
       "  th, td {\n",
       "    padding: 5px;\n",
       "  }\n",
       "  th {\n",
       "    text-align: left;\n",
       "  }\n",
       "</style><div class='table-result-container'><table class='table-result'><thead style='background-color: white'><tr><th>month</th><th>media_valor_total</th></tr></thead><tbody><tr><td>2023-01-01T00:00:00.000Z</td><td>27.02</td></tr><tr><td>2023-02-01T00:00:00.000Z</td><td>26.9</td></tr><tr><td>2023-03-01T00:00:00.000Z</td><td>27.8</td></tr><tr><td>2023-04-01T00:00:00.000Z</td><td>28.27</td></tr><tr><td>2023-05-01T00:00:00.000Z</td><td>28.96</td></tr></tbody></table></div>"
      ]
     },
     "metadata": {
      "application/vnd.databricks.v1+output": {
       "addedWidgets": {},
       "aggData": [],
       "aggError": "",
       "aggOverflow": false,
       "aggSchema": [],
       "aggSeriesLimitReached": false,
       "aggType": "",
       "arguments": {},
       "columnCustomDisplayInfos": {},
       "data": [
        [
         "2023-01-01T00:00:00.000Z",
         27.02
        ],
        [
         "2023-02-01T00:00:00.000Z",
         26.9
        ],
        [
         "2023-03-01T00:00:00.000Z",
         27.8
        ],
        [
         "2023-04-01T00:00:00.000Z",
         28.27
        ],
        [
         "2023-05-01T00:00:00.000Z",
         28.96
        ]
       ],
       "datasetInfos": [
        {
         "name": "_sqldf",
         "schema": {
          "fields": [
           {
            "metadata": {},
            "name": "month",
            "nullable": true,
            "type": "timestamp"
           },
           {
            "metadata": {},
            "name": "media_valor_total",
            "nullable": true,
            "type": "double"
           }
          ],
          "type": "struct"
         },
         "tableIdentifier": null,
         "typeStr": "pyspark.sql.connect.dataframe.DataFrame"
        }
       ],
       "dbfsResultPath": null,
       "isJsonSchema": true,
       "metadata": {
        "createTempViewForImplicitDf": true,
        "dataframeName": "_sqldf",
        "executionCount": 5
       },
       "overflow": false,
       "plotOptions": {
        "customPlotOptions": {},
        "displayType": "table",
        "pivotAggregation": null,
        "pivotColumns": null,
        "xColumns": null,
        "yColumns": null
       },
       "removedWidgets": [],
       "schema": [
        {
         "metadata": "{}",
         "name": "month",
         "type": "\"timestamp\""
        },
        {
         "metadata": "{}",
         "name": "media_valor_total",
         "type": "\"double\""
        }
       ],
       "type": "table"
      }
     },
     "output_type": "display_data"
    }
   ],
   "source": [
    "%sql\n",
    "-- questão 1\n",
    "select\n",
    "date_trunc('MONTH',tpep_pickup_datetime) as month,\n",
    "ROUND(AVG(total_amount), 2) AS media_valor_total\n",
    "from curated_nyc_taxi.yellow_taxi_curated\n",
    "group by 1\n",
    "order by 1"
   ]
  },
  {
   "cell_type": "markdown",
   "metadata": {
    "application/vnd.databricks.v1+cell": {
     "cellMetadata": {},
     "inputWidgets": {},
     "nuid": "c7330047-8856-4ec2-b441-2c7f147fe64a",
     "showTitle": false,
     "tableResultSettingsMap": {},
     "title": ""
    }
   },
   "source": [
    "**> Resposta q1: A média mensal pode variar entre 26.9 e 28.96 dolares**"
   ]
  },
  {
   "cell_type": "markdown",
   "metadata": {
    "application/vnd.databricks.v1+cell": {
     "cellMetadata": {},
     "inputWidgets": {},
     "nuid": "c7332867-6063-40b9-8eef-c0469339c5c4",
     "showTitle": false,
     "tableResultSettingsMap": {},
     "title": ""
    }
   },
   "source": [
    "**Resolução Q2:**"
   ]
  },
  {
   "cell_type": "markdown",
   "metadata": {
    "application/vnd.databricks.v1+cell": {
     "cellMetadata": {},
     "inputWidgets": {},
     "nuid": "28cecb69-667e-4122-bb3d-3a2191ed1b35",
     "showTitle": false,
     "tableResultSettingsMap": {},
     "title": ""
    }
   },
   "source": [
    "verificando valores nulos na tabela yellow taxi"
   ]
  },
  {
   "cell_type": "code",
   "execution_count": 0,
   "metadata": {
    "application/vnd.databricks.v1+cell": {
     "cellMetadata": {
      "byteLimit": 2048000,
      "implicitDf": true,
      "rowLimit": 10000
     },
     "inputWidgets": {},
     "nuid": "53c62954-83d4-4782-b039-8695f09d190c",
     "showTitle": false,
     "tableResultSettingsMap": {},
     "title": ""
    }
   },
   "outputs": [
    {
     "output_type": "display_data",
     "data": {
      "text/html": [
       "<style scoped>\n",
       "  .table-result-container {\n",
       "    max-height: 300px;\n",
       "    overflow: auto;\n",
       "  }\n",
       "  table, th, td {\n",
       "    border: 1px solid black;\n",
       "    border-collapse: collapse;\n",
       "  }\n",
       "  th, td {\n",
       "    padding: 5px;\n",
       "  }\n",
       "  th {\n",
       "    text-align: left;\n",
       "  }\n",
       "</style><div class='table-result-container'><table class='table-result'><thead style='background-color: white'><tr><th>count(1)</th></tr></thead><tbody><tr><td>101796</td></tr></tbody></table></div>"
      ]
     },
     "metadata": {
      "application/vnd.databricks.v1+output": {
       "addedWidgets": {},
       "aggData": [],
       "aggError": "",
       "aggOverflow": false,
       "aggSchema": [],
       "aggSeriesLimitReached": false,
       "aggType": "",
       "arguments": {},
       "columnCustomDisplayInfos": {},
       "data": [
        [
         101796
        ]
       ],
       "datasetInfos": [
        {
         "name": "_sqldf",
         "schema": {
          "fields": [
           {
            "metadata": {},
            "name": "count(1)",
            "nullable": false,
            "type": "long"
           }
          ],
          "type": "struct"
         },
         "tableIdentifier": null,
         "typeStr": "pyspark.sql.connect.dataframe.DataFrame"
        }
       ],
       "dbfsResultPath": null,
       "isJsonSchema": true,
       "metadata": {
        "createTempViewForImplicitDf": true,
        "dataframeName": "_sqldf",
        "executionCount": 6
       },
       "overflow": false,
       "plotOptions": {
        "customPlotOptions": {},
        "displayType": "table",
        "pivotAggregation": null,
        "pivotColumns": null,
        "xColumns": null,
        "yColumns": null
       },
       "removedWidgets": [],
       "schema": [
        {
         "metadata": "{}",
         "name": "count(1)",
         "type": "\"long\""
        }
       ],
       "type": "table"
      }
     },
     "output_type": "display_data"
    }
   ],
   "source": [
    "%sql\n",
    "select \n",
    "count(1)\n",
    "from curated_nyc_taxi.yellow_taxi_curated\n",
    "where tpep_pickup_datetime >= date '2023-05-01'\n",
    "and tpep_pickup_datetime <  date '2023-06-01'\n",
    "and passenger_count is null"
   ]
  },
  {
   "cell_type": "markdown",
   "metadata": {
    "application/vnd.databricks.v1+cell": {
     "cellMetadata": {},
     "inputWidgets": {},
     "nuid": "81c33491-d06e-4ee1-bf77-02f9efbed40b",
     "showTitle": false,
     "tableResultSettingsMap": {},
     "title": ""
    }
   },
   "source": [
    "**verificando valores não nulos na tabela yellow taxi**"
   ]
  },
  {
   "cell_type": "code",
   "execution_count": 0,
   "metadata": {
    "application/vnd.databricks.v1+cell": {
     "cellMetadata": {
      "byteLimit": 2048000,
      "implicitDf": true,
      "rowLimit": 10000
     },
     "inputWidgets": {},
     "nuid": "85a4032f-aa01-46ad-9c49-f35c9ff560df",
     "showTitle": false,
     "tableResultSettingsMap": {},
     "title": ""
    }
   },
   "outputs": [
    {
     "output_type": "display_data",
     "data": {
      "text/html": [
       "<style scoped>\n",
       "  .table-result-container {\n",
       "    max-height: 300px;\n",
       "    overflow: auto;\n",
       "  }\n",
       "  table, th, td {\n",
       "    border: 1px solid black;\n",
       "    border-collapse: collapse;\n",
       "  }\n",
       "  th, td {\n",
       "    padding: 5px;\n",
       "  }\n",
       "  th {\n",
       "    text-align: left;\n",
       "  }\n",
       "</style><div class='table-result-container'><table class='table-result'><thead style='background-color: white'><tr><th>count(1)</th></tr></thead><tbody><tr><td>3411849</td></tr></tbody></table></div>"
      ]
     },
     "metadata": {
      "application/vnd.databricks.v1+output": {
       "addedWidgets": {},
       "aggData": [],
       "aggError": "",
       "aggOverflow": false,
       "aggSchema": [],
       "aggSeriesLimitReached": false,
       "aggType": "",
       "arguments": {},
       "columnCustomDisplayInfos": {},
       "data": [
        [
         3411849
        ]
       ],
       "datasetInfos": [
        {
         "name": "_sqldf",
         "schema": {
          "fields": [
           {
            "metadata": {},
            "name": "count(1)",
            "nullable": false,
            "type": "long"
           }
          ],
          "type": "struct"
         },
         "tableIdentifier": null,
         "typeStr": "pyspark.sql.connect.dataframe.DataFrame"
        }
       ],
       "dbfsResultPath": null,
       "isJsonSchema": true,
       "metadata": {
        "createTempViewForImplicitDf": true,
        "dataframeName": "_sqldf",
        "executionCount": 7
       },
       "overflow": false,
       "plotOptions": {
        "customPlotOptions": {},
        "displayType": "table",
        "pivotAggregation": null,
        "pivotColumns": null,
        "xColumns": null,
        "yColumns": null
       },
       "removedWidgets": [],
       "schema": [
        {
         "metadata": "{}",
         "name": "count(1)",
         "type": "\"long\""
        }
       ],
       "type": "table"
      }
     },
     "output_type": "display_data"
    }
   ],
   "source": [
    "%sql\n",
    "select \n",
    "count(1)\n",
    "from curated_nyc_taxi.yellow_taxi_curated\n",
    "where tpep_pickup_datetime >= date '2023-05-01'\n",
    "and tpep_pickup_datetime <  date '2023-06-01'\n",
    "and passenger_count is not null"
   ]
  },
  {
   "cell_type": "markdown",
   "metadata": {
    "application/vnd.databricks.v1+cell": {
     "cellMetadata": {},
     "inputWidgets": {},
     "nuid": "2a364a1c-a76c-44b7-a3ab-bb96e0454980",
     "showTitle": false,
     "tableResultSettingsMap": {},
     "title": ""
    }
   },
   "source": [
    "**CONSIDERAÇÕES**\n",
    "\n",
    "mesmo fazendo o coalesce na camada de preprocessamento com os valores da coluna _rescued_data , ainda temos 101.796 registros nulos no campo passenger_count contra 3.411.849 não nulos no df de yellow_taxi. o que representa 2,98% de valores nulos nessa coluna. Sabemos que dados de corridas de taxi são passíveis de sazonalidade, e para não perdê-la na análise, vale a pena imputar nos nulos a média do período\n",
    "\n"
   ]
  },
  {
   "cell_type": "code",
   "execution_count": 0,
   "metadata": {
    "application/vnd.databricks.v1+cell": {
     "cellMetadata": {
      "byteLimit": 2048000,
      "implicitDf": true,
      "rowLimit": 10000
     },
     "inputWidgets": {},
     "nuid": "737cbfa0-2b93-4627-a3fe-2a9cc702894f",
     "showTitle": false,
     "tableResultSettingsMap": {},
     "title": ""
    }
   },
   "outputs": [
    {
     "output_type": "display_data",
     "data": {
      "text/html": [
       "<style scoped>\n",
       "  .table-result-container {\n",
       "    max-height: 300px;\n",
       "    overflow: auto;\n",
       "  }\n",
       "  table, th, td {\n",
       "    border: 1px solid black;\n",
       "    border-collapse: collapse;\n",
       "  }\n",
       "  th, td {\n",
       "    padding: 5px;\n",
       "  }\n",
       "  th {\n",
       "    text-align: left;\n",
       "  }\n",
       "</style><div class='table-result-container'><table class='table-result'><thead style='background-color: white'><tr><th>media_passageiros_yellow</th></tr></thead><tbody><tr><td>1.36</td></tr></tbody></table></div>"
      ]
     },
     "metadata": {
      "application/vnd.databricks.v1+output": {
       "addedWidgets": {},
       "aggData": [],
       "aggError": "",
       "aggOverflow": false,
       "aggSchema": [],
       "aggSeriesLimitReached": false,
       "aggType": "",
       "arguments": {},
       "columnCustomDisplayInfos": {},
       "data": [
        [
         1.36
        ]
       ],
       "datasetInfos": [
        {
         "name": "_sqldf",
         "schema": {
          "fields": [
           {
            "metadata": {},
            "name": "media_passageiros_yellow",
            "nullable": true,
            "type": "double"
           }
          ],
          "type": "struct"
         },
         "tableIdentifier": null,
         "typeStr": "pyspark.sql.connect.dataframe.DataFrame"
        }
       ],
       "dbfsResultPath": null,
       "isJsonSchema": true,
       "metadata": {
        "createTempViewForImplicitDf": true,
        "dataframeName": "_sqldf",
        "executionCount": 8
       },
       "overflow": false,
       "plotOptions": {
        "customPlotOptions": {},
        "displayType": "table",
        "pivotAggregation": null,
        "pivotColumns": null,
        "xColumns": null,
        "yColumns": null
       },
       "removedWidgets": [],
       "schema": [
        {
         "metadata": "{}",
         "name": "media_passageiros_yellow",
         "type": "\"double\""
        }
       ],
       "type": "table"
      }
     },
     "output_type": "display_data"
    }
   ],
   "source": [
    "%sql\n",
    "--descobrindo a média de passenger_count dos yellow_taxis sem valor nulo, APENAS NO PERÍODO SOLICITADO\n",
    "select \n",
    "round(avg(passenger_count),2) as media_passageiros_yellow\n",
    "from curated_nyc_taxi.yellow_taxi_curated\n",
    "where tpep_pickup_datetime >= date '2023-05-01'\n",
    "and tpep_pickup_datetime <  date '2023-06-01'\n",
    "and passenger_count is not null"
   ]
  },
  {
   "cell_type": "code",
   "execution_count": 0,
   "metadata": {
    "application/vnd.databricks.v1+cell": {
     "cellMetadata": {
      "byteLimit": 2048000,
      "implicitDf": true,
      "rowLimit": 10000
     },
     "inputWidgets": {},
     "nuid": "a786d2c2-df64-430d-9309-02981fe0560b",
     "showTitle": false,
     "tableResultSettingsMap": {},
     "title": ""
    }
   },
   "outputs": [
    {
     "output_type": "display_data",
     "data": {
      "text/html": [
       "<style scoped>\n",
       "  .table-result-container {\n",
       "    max-height: 300px;\n",
       "    overflow: auto;\n",
       "  }\n",
       "  table, th, td {\n",
       "    border: 1px solid black;\n",
       "    border-collapse: collapse;\n",
       "  }\n",
       "  th, td {\n",
       "    padding: 5px;\n",
       "  }\n",
       "  th {\n",
       "    text-align: left;\n",
       "  }\n",
       "</style><div class='table-result-container'><table class='table-result'><thead style='background-color: white'><tr><th>VendorID</th><th>passenger_count</th><th>total_amount</th><th>tpep_pickup_datetime</th><th>tpep_dropoff_datetime</th><th>taxi_color</th><th>passenger_count_imputed</th></tr></thead><tbody><tr><td>1</td><td>0.0</td><td>51.65</td><td>2023-05-01T00:33:13.000Z</td><td>2023-05-01T00:53:01.000Z</td><td>yellow_taxi</td><td>0.0</td></tr><tr><td>1</td><td>2.0</td><td>57.15</td><td>2023-05-01T00:42:49.000Z</td><td>2023-05-01T01:11:18.000Z</td><td>yellow_taxi</td><td>2.0</td></tr><tr><td>1</td><td>2.0</td><td>64.2</td><td>2023-05-01T00:56:34.000Z</td><td>2023-05-01T01:13:39.000Z</td><td>yellow_taxi</td><td>2.0</td></tr><tr><td>2</td><td>1.0</td><td>47.09</td><td>2023-05-01T00:00:52.000Z</td><td>2023-05-01T00:20:12.000Z</td><td>yellow_taxi</td><td>1.0</td></tr><tr><td>1</td><td>0.0</td><td>59.15</td><td>2023-05-01T00:05:50.000Z</td><td>2023-05-01T00:19:41.000Z</td><td>yellow_taxi</td><td>0.0</td></tr></tbody></table></div>"
      ]
     },
     "metadata": {
      "application/vnd.databricks.v1+output": {
       "addedWidgets": {},
       "aggData": [],
       "aggError": "",
       "aggOverflow": false,
       "aggSchema": [],
       "aggSeriesLimitReached": false,
       "aggType": "",
       "arguments": {},
       "columnCustomDisplayInfos": {},
       "data": [
        [
         1,
         0.0,
         51.65,
         "2023-05-01T00:33:13.000Z",
         "2023-05-01T00:53:01.000Z",
         "yellow_taxi",
         0.0
        ],
        [
         1,
         2.0,
         57.15,
         "2023-05-01T00:42:49.000Z",
         "2023-05-01T01:11:18.000Z",
         "yellow_taxi",
         2.0
        ],
        [
         1,
         2.0,
         64.2,
         "2023-05-01T00:56:34.000Z",
         "2023-05-01T01:13:39.000Z",
         "yellow_taxi",
         2.0
        ],
        [
         2,
         1.0,
         47.09,
         "2023-05-01T00:00:52.000Z",
         "2023-05-01T00:20:12.000Z",
         "yellow_taxi",
         1.0
        ],
        [
         1,
         0.0,
         59.15,
         "2023-05-01T00:05:50.000Z",
         "2023-05-01T00:19:41.000Z",
         "yellow_taxi",
         0.0
        ]
       ],
       "datasetInfos": [
        {
         "name": "_sqldf",
         "schema": {
          "fields": [
           {
            "metadata": {},
            "name": "VendorID",
            "nullable": true,
            "type": "long"
           },
           {
            "metadata": {},
            "name": "passenger_count",
            "nullable": true,
            "type": "double"
           },
           {
            "metadata": {},
            "name": "total_amount",
            "nullable": true,
            "type": "double"
           },
           {
            "metadata": {},
            "name": "tpep_pickup_datetime",
            "nullable": true,
            "type": "timestamp"
           },
           {
            "metadata": {},
            "name": "tpep_dropoff_datetime",
            "nullable": true,
            "type": "timestamp"
           },
           {
            "metadata": {},
            "name": "taxi_color",
            "nullable": true,
            "type": "string"
           },
           {
            "metadata": {},
            "name": "passenger_count_imputed",
            "nullable": false,
            "type": "double"
           }
          ],
          "type": "struct"
         },
         "tableIdentifier": null,
         "typeStr": "pyspark.sql.connect.dataframe.DataFrame"
        }
       ],
       "dbfsResultPath": null,
       "isJsonSchema": true,
       "metadata": {
        "createTempViewForImplicitDf": true,
        "dataframeName": "_sqldf",
        "executionCount": 9
       },
       "overflow": false,
       "plotOptions": {
        "customPlotOptions": {},
        "displayType": "table",
        "pivotAggregation": null,
        "pivotColumns": null,
        "xColumns": null,
        "yColumns": null
       },
       "removedWidgets": [],
       "schema": [
        {
         "metadata": "{}",
         "name": "VendorID",
         "type": "\"long\""
        },
        {
         "metadata": "{}",
         "name": "passenger_count",
         "type": "\"double\""
        },
        {
         "metadata": "{}",
         "name": "total_amount",
         "type": "\"double\""
        },
        {
         "metadata": "{}",
         "name": "tpep_pickup_datetime",
         "type": "\"timestamp\""
        },
        {
         "metadata": "{}",
         "name": "tpep_dropoff_datetime",
         "type": "\"timestamp\""
        },
        {
         "metadata": "{}",
         "name": "taxi_color",
         "type": "\"string\""
        },
        {
         "metadata": "{}",
         "name": "passenger_count_imputed",
         "type": "\"double\""
        }
       ],
       "type": "table"
      }
     },
     "output_type": "display_data"
    }
   ],
   "source": [
    "%sql\n",
    "select *,\n",
    "coalesce(passenger_count, 1.36) as passenger_count_imputed \n",
    "from curated_nyc_taxi.yellow_taxi_curated\n",
    "where tpep_pickup_datetime >= timestamp '2023-05-01'\n",
    "and tpep_pickup_datetime < timestamp '2023-06-01'\n",
    "limit 5"
   ]
  },
  {
   "cell_type": "markdown",
   "metadata": {
    "application/vnd.databricks.v1+cell": {
     "cellMetadata": {},
     "inputWidgets": {},
     "nuid": "129b1014-e031-40d8-b393-cc6271016fb1",
     "showTitle": false,
     "tableResultSettingsMap": {},
     "title": ""
    }
   },
   "source": [
    "**criando tabela temporária yellow taxi com o coalesce da média nos passenger_count null**"
   ]
  },
  {
   "cell_type": "code",
   "execution_count": 0,
   "metadata": {
    "application/vnd.databricks.v1+cell": {
     "cellMetadata": {
      "byteLimit": 2048000,
      "rowLimit": 10000
     },
     "inputWidgets": {},
     "nuid": "01adc1dc-4fa5-46bc-8db5-1659553d10d7",
     "showTitle": false,
     "tableResultSettingsMap": {},
     "title": ""
    }
   },
   "outputs": [],
   "source": [
    "df_y_med_pas_count = spark.sql(\n",
    "  \"select *, \"\n",
    "  \"coalesce(passenger_count, 1.36) as passenger_count_imputed \"\n",
    "  \"from curated_nyc_taxi.yellow_taxi_curated \"\n",
    "  \"where tpep_pickup_datetime >= timestamp '2023-05-01' \"\n",
    "  \"and tpep_pickup_datetime < timestamp '2023-06-01'\"\n",
    ")\n",
    "df_y_med_pas_count.createOrReplaceTempView(\"df_y_med_pas_count\")"
   ]
  },
  {
   "cell_type": "markdown",
   "metadata": {
    "application/vnd.databricks.v1+cell": {
     "cellMetadata": {},
     "inputWidgets": {},
     "nuid": "1c5e344b-468d-4f21-9fc4-54997bbf25e3",
     "showTitle": false,
     "tableResultSettingsMap": {},
     "title": ""
    }
   },
   "source": [
    "**Agora fazendo o mesmo processo para o green taxi**"
   ]
  },
  {
   "cell_type": "code",
   "execution_count": 0,
   "metadata": {
    "application/vnd.databricks.v1+cell": {
     "cellMetadata": {
      "byteLimit": 2048000,
      "implicitDf": true,
      "rowLimit": 10000
     },
     "inputWidgets": {},
     "nuid": "c28b9545-6a90-4b27-a414-d702a06e2a4f",
     "showTitle": false,
     "tableResultSettingsMap": {},
     "title": ""
    }
   },
   "outputs": [
    {
     "output_type": "display_data",
     "data": {
      "text/html": [
       "<style scoped>\n",
       "  .table-result-container {\n",
       "    max-height: 300px;\n",
       "    overflow: auto;\n",
       "  }\n",
       "  table, th, td {\n",
       "    border: 1px solid black;\n",
       "    border-collapse: collapse;\n",
       "  }\n",
       "  th, td {\n",
       "    padding: 5px;\n",
       "  }\n",
       "  th {\n",
       "    text-align: left;\n",
       "  }\n",
       "</style><div class='table-result-container'><table class='table-result'><thead style='background-color: white'><tr><th>count(1)</th></tr></thead><tbody><tr><td>4732</td></tr></tbody></table></div>"
      ]
     },
     "metadata": {
      "application/vnd.databricks.v1+output": {
       "addedWidgets": {},
       "aggData": [],
       "aggError": "",
       "aggOverflow": false,
       "aggSchema": [],
       "aggSeriesLimitReached": false,
       "aggType": "",
       "arguments": {},
       "columnCustomDisplayInfos": {},
       "data": [
        [
         4732
        ]
       ],
       "datasetInfos": [
        {
         "name": "_sqldf",
         "schema": {
          "fields": [
           {
            "metadata": {},
            "name": "count(1)",
            "nullable": false,
            "type": "long"
           }
          ],
          "type": "struct"
         },
         "tableIdentifier": null,
         "typeStr": "pyspark.sql.connect.dataframe.DataFrame"
        }
       ],
       "dbfsResultPath": null,
       "isJsonSchema": true,
       "metadata": {
        "createTempViewForImplicitDf": true,
        "dataframeName": "_sqldf",
        "executionCount": 11
       },
       "overflow": false,
       "plotOptions": {
        "customPlotOptions": {},
        "displayType": "table",
        "pivotAggregation": null,
        "pivotColumns": null,
        "xColumns": null,
        "yColumns": null
       },
       "removedWidgets": [],
       "schema": [
        {
         "metadata": "{}",
         "name": "count(1)",
         "type": "\"long\""
        }
       ],
       "type": "table"
      }
     },
     "output_type": "display_data"
    }
   ],
   "source": [
    "%sql\n",
    "select \n",
    "count(1)\n",
    "from curated_nyc_taxi.green_taxi_curated\n",
    "where lpep_pickup_datetime >= date '2023-05-01'\n",
    "and lpep_pickup_datetime <  date '2023-06-01'\n",
    "and passenger_count is null"
   ]
  },
  {
   "cell_type": "code",
   "execution_count": 0,
   "metadata": {
    "application/vnd.databricks.v1+cell": {
     "cellMetadata": {
      "byteLimit": 2048000,
      "implicitDf": true,
      "rowLimit": 10000
     },
     "inputWidgets": {},
     "nuid": "081d38cb-44ba-4dbb-9cd4-3aa6d3ab2fdf",
     "showTitle": false,
     "tableResultSettingsMap": {},
     "title": ""
    }
   },
   "outputs": [
    {
     "output_type": "display_data",
     "data": {
      "text/html": [
       "<style scoped>\n",
       "  .table-result-container {\n",
       "    max-height: 300px;\n",
       "    overflow: auto;\n",
       "  }\n",
       "  table, th, td {\n",
       "    border: 1px solid black;\n",
       "    border-collapse: collapse;\n",
       "  }\n",
       "  th, td {\n",
       "    padding: 5px;\n",
       "  }\n",
       "  th {\n",
       "    text-align: left;\n",
       "  }\n",
       "</style><div class='table-result-container'><table class='table-result'><thead style='background-color: white'><tr><th>count(1)</th></tr></thead><tbody><tr><td>64436</td></tr></tbody></table></div>"
      ]
     },
     "metadata": {
      "application/vnd.databricks.v1+output": {
       "addedWidgets": {},
       "aggData": [],
       "aggError": "",
       "aggOverflow": false,
       "aggSchema": [],
       "aggSeriesLimitReached": false,
       "aggType": "",
       "arguments": {},
       "columnCustomDisplayInfos": {},
       "data": [
        [
         64436
        ]
       ],
       "datasetInfos": [
        {
         "name": "_sqldf",
         "schema": {
          "fields": [
           {
            "metadata": {},
            "name": "count(1)",
            "nullable": false,
            "type": "long"
           }
          ],
          "type": "struct"
         },
         "tableIdentifier": null,
         "typeStr": "pyspark.sql.connect.dataframe.DataFrame"
        }
       ],
       "dbfsResultPath": null,
       "isJsonSchema": true,
       "metadata": {
        "createTempViewForImplicitDf": true,
        "dataframeName": "_sqldf",
        "executionCount": 12
       },
       "overflow": false,
       "plotOptions": {
        "customPlotOptions": {},
        "displayType": "table",
        "pivotAggregation": null,
        "pivotColumns": null,
        "xColumns": null,
        "yColumns": null
       },
       "removedWidgets": [],
       "schema": [
        {
         "metadata": "{}",
         "name": "count(1)",
         "type": "\"long\""
        }
       ],
       "type": "table"
      }
     },
     "output_type": "display_data"
    }
   ],
   "source": [
    "%sql\n",
    "select \n",
    "count(1)\n",
    "from curated_nyc_taxi.green_taxi_curated\n",
    "where lpep_pickup_datetime >= date '2023-05-01'\n",
    "and lpep_pickup_datetime <  date '2023-06-01'\n",
    "and passenger_count is not null"
   ]
  },
  {
   "cell_type": "markdown",
   "metadata": {
    "application/vnd.databricks.v1+cell": {
     "cellMetadata": {},
     "inputWidgets": {},
     "nuid": "5f4b6bb7-c45c-4f64-9455-a33c47d71dc9",
     "showTitle": false,
     "tableResultSettingsMap": {},
     "title": ""
    }
   },
   "source": [
    "**CONSIDERAÇÕES**\n",
    "\n",
    "mesmo fazendo o coalesce na camada de preprocessamento com os valores da coluna _rescued_data , ainda temos 4732 registros nulos no campo passenger_count contra 64436 não nulos no df de green_taxi. o que representa 7,34% de valores nulos nessa coluna. Sabemos que dados de corridas de taxi são passíveis de sazonalidade, e para não perdê-la na análise, vale a pena imputar nos nulos a média do período"
   ]
  },
  {
   "cell_type": "code",
   "execution_count": 0,
   "metadata": {
    "application/vnd.databricks.v1+cell": {
     "cellMetadata": {
      "byteLimit": 2048000,
      "implicitDf": true,
      "rowLimit": 10000
     },
     "inputWidgets": {},
     "nuid": "235beaed-43cb-4adb-bec0-eeffdaef1031",
     "showTitle": false,
     "tableResultSettingsMap": {},
     "title": ""
    }
   },
   "outputs": [
    {
     "output_type": "display_data",
     "data": {
      "text/html": [
       "<style scoped>\n",
       "  .table-result-container {\n",
       "    max-height: 300px;\n",
       "    overflow: auto;\n",
       "  }\n",
       "  table, th, td {\n",
       "    border: 1px solid black;\n",
       "    border-collapse: collapse;\n",
       "  }\n",
       "  th, td {\n",
       "    padding: 5px;\n",
       "  }\n",
       "  th {\n",
       "    text-align: left;\n",
       "  }\n",
       "</style><div class='table-result-container'><table class='table-result'><thead style='background-color: white'><tr><th>media_passageiros_green</th></tr></thead><tbody><tr><td>1.27</td></tr></tbody></table></div>"
      ]
     },
     "metadata": {
      "application/vnd.databricks.v1+output": {
       "addedWidgets": {},
       "aggData": [],
       "aggError": "",
       "aggOverflow": false,
       "aggSchema": [],
       "aggSeriesLimitReached": false,
       "aggType": "",
       "arguments": {},
       "columnCustomDisplayInfos": {},
       "data": [
        [
         1.27
        ]
       ],
       "datasetInfos": [
        {
         "name": "_sqldf",
         "schema": {
          "fields": [
           {
            "metadata": {},
            "name": "media_passageiros_green",
            "nullable": true,
            "type": "double"
           }
          ],
          "type": "struct"
         },
         "tableIdentifier": null,
         "typeStr": "pyspark.sql.connect.dataframe.DataFrame"
        }
       ],
       "dbfsResultPath": null,
       "isJsonSchema": true,
       "metadata": {
        "createTempViewForImplicitDf": true,
        "dataframeName": "_sqldf",
        "executionCount": 13
       },
       "overflow": false,
       "plotOptions": {
        "customPlotOptions": {},
        "displayType": "table",
        "pivotAggregation": null,
        "pivotColumns": null,
        "xColumns": null,
        "yColumns": null
       },
       "removedWidgets": [],
       "schema": [
        {
         "metadata": "{}",
         "name": "media_passageiros_green",
         "type": "\"double\""
        }
       ],
       "type": "table"
      }
     },
     "output_type": "display_data"
    }
   ],
   "source": [
    "%sql\n",
    "--descobrindo a média de passenger_count dos green_taxis sem valor nulo, APENAS NO PERÍODO SOLICITADO\n",
    "select \n",
    "round(avg(passenger_count),2) as media_passageiros_green\n",
    "from curated_nyc_taxi.green_taxi_curated\n",
    "where lpep_pickup_datetime >= date '2023-05-01'\n",
    "and lpep_pickup_datetime <  date '2023-06-01'\n",
    "and passenger_count is not null"
   ]
  },
  {
   "cell_type": "code",
   "execution_count": 0,
   "metadata": {
    "application/vnd.databricks.v1+cell": {
     "cellMetadata": {
      "byteLimit": 2048000,
      "implicitDf": true,
      "rowLimit": 10000
     },
     "inputWidgets": {},
     "nuid": "f7bcfdf1-b2ea-4f04-84d5-42deff8245b9",
     "showTitle": false,
     "tableResultSettingsMap": {},
     "title": ""
    }
   },
   "outputs": [
    {
     "output_type": "display_data",
     "data": {
      "text/html": [
       "<style scoped>\n",
       "  .table-result-container {\n",
       "    max-height: 300px;\n",
       "    overflow: auto;\n",
       "  }\n",
       "  table, th, td {\n",
       "    border: 1px solid black;\n",
       "    border-collapse: collapse;\n",
       "  }\n",
       "  th, td {\n",
       "    padding: 5px;\n",
       "  }\n",
       "  th {\n",
       "    text-align: left;\n",
       "  }\n",
       "</style><div class='table-result-container'><table class='table-result'><thead style='background-color: white'><tr><th>VendorID</th><th>passenger_count</th><th>total_amount</th><th>lpep_pickup_datetime</th><th>lpep_dropoff_datetime</th><th>taxi_color</th><th>passenger_count_imputed</th></tr></thead><tbody><tr><td>2</td><td>1.0</td><td>31.4</td><td>2023-05-01T00:52:10.000Z</td><td>2023-05-01T01:05:26.000Z</td><td>green_taxi</td><td>1.0</td></tr><tr><td>2</td><td>1.0</td><td>40.55</td><td>2023-05-01T00:29:49.000Z</td><td>2023-05-01T00:50:11.000Z</td><td>green_taxi</td><td>1.0</td></tr><tr><td>2</td><td>1.0</td><td>14.16</td><td>2023-05-01T00:25:19.000Z</td><td>2023-05-01T00:32:12.000Z</td><td>green_taxi</td><td>1.0</td></tr><tr><td>2</td><td>1.0</td><td>32.57</td><td>2023-05-01T00:07:06.000Z</td><td>2023-05-01T00:27:33.000Z</td><td>green_taxi</td><td>1.0</td></tr><tr><td>2</td><td>1.0</td><td>9.0</td><td>2023-05-01T00:43:31.000Z</td><td>2023-05-01T00:46:59.000Z</td><td>green_taxi</td><td>1.0</td></tr></tbody></table></div>"
      ]
     },
     "metadata": {
      "application/vnd.databricks.v1+output": {
       "addedWidgets": {},
       "aggData": [],
       "aggError": "",
       "aggOverflow": false,
       "aggSchema": [],
       "aggSeriesLimitReached": false,
       "aggType": "",
       "arguments": {},
       "columnCustomDisplayInfos": {},
       "data": [
        [
         2,
         1.0,
         31.4,
         "2023-05-01T00:52:10.000Z",
         "2023-05-01T01:05:26.000Z",
         "green_taxi",
         1.0
        ],
        [
         2,
         1.0,
         40.55,
         "2023-05-01T00:29:49.000Z",
         "2023-05-01T00:50:11.000Z",
         "green_taxi",
         1.0
        ],
        [
         2,
         1.0,
         14.16,
         "2023-05-01T00:25:19.000Z",
         "2023-05-01T00:32:12.000Z",
         "green_taxi",
         1.0
        ],
        [
         2,
         1.0,
         32.57,
         "2023-05-01T00:07:06.000Z",
         "2023-05-01T00:27:33.000Z",
         "green_taxi",
         1.0
        ],
        [
         2,
         1.0,
         9.0,
         "2023-05-01T00:43:31.000Z",
         "2023-05-01T00:46:59.000Z",
         "green_taxi",
         1.0
        ]
       ],
       "datasetInfos": [
        {
         "name": "_sqldf",
         "schema": {
          "fields": [
           {
            "metadata": {},
            "name": "VendorID",
            "nullable": true,
            "type": "long"
           },
           {
            "metadata": {},
            "name": "passenger_count",
            "nullable": true,
            "type": "double"
           },
           {
            "metadata": {},
            "name": "total_amount",
            "nullable": true,
            "type": "double"
           },
           {
            "metadata": {},
            "name": "lpep_pickup_datetime",
            "nullable": true,
            "type": "timestamp"
           },
           {
            "metadata": {},
            "name": "lpep_dropoff_datetime",
            "nullable": true,
            "type": "timestamp"
           },
           {
            "metadata": {},
            "name": "taxi_color",
            "nullable": true,
            "type": "string"
           },
           {
            "metadata": {},
            "name": "passenger_count_imputed",
            "nullable": false,
            "type": "double"
           }
          ],
          "type": "struct"
         },
         "tableIdentifier": null,
         "typeStr": "pyspark.sql.connect.dataframe.DataFrame"
        }
       ],
       "dbfsResultPath": null,
       "isJsonSchema": true,
       "metadata": {
        "createTempViewForImplicitDf": true,
        "dataframeName": "_sqldf",
        "executionCount": 14
       },
       "overflow": false,
       "plotOptions": {
        "customPlotOptions": {},
        "displayType": "table",
        "pivotAggregation": null,
        "pivotColumns": null,
        "xColumns": null,
        "yColumns": null
       },
       "removedWidgets": [],
       "schema": [
        {
         "metadata": "{}",
         "name": "VendorID",
         "type": "\"long\""
        },
        {
         "metadata": "{}",
         "name": "passenger_count",
         "type": "\"double\""
        },
        {
         "metadata": "{}",
         "name": "total_amount",
         "type": "\"double\""
        },
        {
         "metadata": "{}",
         "name": "lpep_pickup_datetime",
         "type": "\"timestamp\""
        },
        {
         "metadata": "{}",
         "name": "lpep_dropoff_datetime",
         "type": "\"timestamp\""
        },
        {
         "metadata": "{}",
         "name": "taxi_color",
         "type": "\"string\""
        },
        {
         "metadata": "{}",
         "name": "passenger_count_imputed",
         "type": "\"double\""
        }
       ],
       "type": "table"
      }
     },
     "output_type": "display_data"
    }
   ],
   "source": [
    "%sql\n",
    "select *,\n",
    "coalesce(passenger_count, 1.27) as passenger_count_imputed \n",
    "from curated_nyc_taxi.green_taxi_curated\n",
    "where lpep_pickup_datetime >= timestamp '2023-05-01'\n",
    "and lpep_pickup_datetime < timestamp '2023-06-01'\n",
    "limit 5"
   ]
  },
  {
   "cell_type": "markdown",
   "metadata": {
    "application/vnd.databricks.v1+cell": {
     "cellMetadata": {},
     "inputWidgets": {},
     "nuid": "709ddf95-452a-42cd-ab7e-cba5d28ffb06",
     "showTitle": false,
     "tableResultSettingsMap": {},
     "title": ""
    }
   },
   "source": [
    "criando tabela temporária green taxi com o coalesce da média nos passenger_count null"
   ]
  },
  {
   "cell_type": "code",
   "execution_count": 0,
   "metadata": {
    "application/vnd.databricks.v1+cell": {
     "cellMetadata": {
      "byteLimit": 2048000,
      "rowLimit": 10000
     },
     "inputWidgets": {},
     "nuid": "4613e9e2-3e0f-46d2-a5eb-ddc479ed08ab",
     "showTitle": false,
     "tableResultSettingsMap": {},
     "title": ""
    }
   },
   "outputs": [],
   "source": [
    "df_g_med_pas_count = spark.sql(\n",
    "  \"select *, \"\n",
    "  \"coalesce(passenger_count, 1.27) as passenger_count_imputed \"\n",
    "  \"from curated_nyc_taxi.green_taxi_curated \"\n",
    "  \"where lpep_pickup_datetime >= timestamp '2023-05-01' \"\n",
    "  \"and lpep_pickup_datetime < timestamp '2023-06-01'\"\n",
    ")\n",
    "df_g_med_pas_count.createOrReplaceTempView(\"df_g_med_pas_count\")"
   ]
  },
  {
   "cell_type": "code",
   "execution_count": 0,
   "metadata": {
    "application/vnd.databricks.v1+cell": {
     "cellMetadata": {
      "byteLimit": 2048000,
      "rowLimit": 10000
     },
     "inputWidgets": {},
     "nuid": "0ce3690d-e3a5-487e-98fb-89f78e566827",
     "showTitle": false,
     "tableResultSettingsMap": {},
     "title": ""
    }
   },
   "outputs": [
    {
     "output_type": "execute_result",
     "data": {
      "text/plain": [
       "DataFrame[VendorID: bigint, passenger_count: double, total_amount: double, tpep_pickup_datetime: timestamp, tpep_dropoff_datetime: timestamp, taxi_color: string, passenger_count_imputed: double]"
      ]
     },
     "execution_count": 16,
     "metadata": {},
     "output_type": "execute_result"
    }
   ],
   "source": [
    "df_y_med_pas_count"
   ]
  },
  {
   "cell_type": "markdown",
   "metadata": {
    "application/vnd.databricks.v1+cell": {
     "cellMetadata": {},
     "inputWidgets": {},
     "nuid": "320f052b-8134-416a-b902-956ff1025859",
     "showTitle": false,
     "tableResultSettingsMap": {},
     "title": ""
    }
   },
   "source": [
    "**Analise individual da quantidade de passageiros por hora no yellow taxi no mes de Maio**"
   ]
  },
  {
   "cell_type": "code",
   "execution_count": 0,
   "metadata": {
    "application/vnd.databricks.v1+cell": {
     "cellMetadata": {
      "byteLimit": 2048000,
      "implicitDf": true,
      "rowLimit": 10000
     },
     "inputWidgets": {},
     "nuid": "381da7fc-1394-4d80-a72d-aaf9a84594e7",
     "showTitle": false,
     "tableResultSettingsMap": {},
     "title": ""
    }
   },
   "outputs": [
    {
     "output_type": "display_data",
     "data": {
      "text/html": [
       "<style scoped>\n",
       "  .table-result-container {\n",
       "    max-height: 300px;\n",
       "    overflow: auto;\n",
       "  }\n",
       "  table, th, td {\n",
       "    border: 1px solid black;\n",
       "    border-collapse: collapse;\n",
       "  }\n",
       "  th, td {\n",
       "    padding: 5px;\n",
       "  }\n",
       "  th {\n",
       "    text-align: left;\n",
       "  }\n",
       "</style><div class='table-result-container'><table class='table-result'><thead style='background-color: white'><tr><th>hora</th><th>qtd_passageiros</th></tr></thead><tbody><tr><td>0</td><td>128112.0</td></tr><tr><td>1</td><td>83857.0</td></tr><tr><td>2</td><td>54693.0</td></tr><tr><td>3</td><td>35650.0</td></tr><tr><td>4</td><td>22646.0</td></tr><tr><td>5</td><td>23719.0</td></tr><tr><td>6</td><td>57865.0</td></tr><tr><td>7</td><td>118318.0</td></tr><tr><td>8</td><td>163493.0</td></tr><tr><td>9</td><td>186022.0</td></tr><tr><td>10</td><td>208480.0</td></tr><tr><td>11</td><td>229629.0</td></tr><tr><td>12</td><td>250255.0</td></tr><tr><td>13</td><td>257838.0</td></tr><tr><td>14</td><td>281460.0</td></tr><tr><td>15</td><td>290038.0</td></tr><tr><td>16</td><td>289587.0</td></tr><tr><td>17</td><td>314258.0</td></tr><tr><td>18</td><td>332393.0</td></tr><tr><td>19</td><td>300485.0</td></tr><tr><td>20</td><td>268770.0</td></tr><tr><td>21</td><td>278204.0</td></tr><tr><td>22</td><td>258812.0</td></tr><tr><td>23</td><td>201439.0</td></tr></tbody></table></div>"
      ]
     },
     "metadata": {
      "application/vnd.databricks.v1+output": {
       "addedWidgets": {},
       "aggData": [],
       "aggError": "",
       "aggOverflow": false,
       "aggSchema": [],
       "aggSeriesLimitReached": false,
       "aggType": "",
       "arguments": {},
       "columnCustomDisplayInfos": {},
       "data": [
        [
         0,
         128112.0
        ],
        [
         1,
         83857.0
        ],
        [
         2,
         54693.0
        ],
        [
         3,
         35650.0
        ],
        [
         4,
         22646.0
        ],
        [
         5,
         23719.0
        ],
        [
         6,
         57865.0
        ],
        [
         7,
         118318.0
        ],
        [
         8,
         163493.0
        ],
        [
         9,
         186022.0
        ],
        [
         10,
         208480.0
        ],
        [
         11,
         229629.0
        ],
        [
         12,
         250255.0
        ],
        [
         13,
         257838.0
        ],
        [
         14,
         281460.0
        ],
        [
         15,
         290038.0
        ],
        [
         16,
         289587.0
        ],
        [
         17,
         314258.0
        ],
        [
         18,
         332393.0
        ],
        [
         19,
         300485.0
        ],
        [
         20,
         268770.0
        ],
        [
         21,
         278204.0
        ],
        [
         22,
         258812.0
        ],
        [
         23,
         201439.0
        ]
       ],
       "datasetInfos": [
        {
         "name": "_sqldf",
         "schema": {
          "fields": [
           {
            "metadata": {},
            "name": "hora",
            "nullable": true,
            "type": "integer"
           },
           {
            "metadata": {},
            "name": "qtd_passageiros",
            "nullable": true,
            "type": "double"
           }
          ],
          "type": "struct"
         },
         "tableIdentifier": null,
         "typeStr": "pyspark.sql.connect.dataframe.DataFrame"
        }
       ],
       "dbfsResultPath": null,
       "isJsonSchema": true,
       "metadata": {
        "createTempViewForImplicitDf": true,
        "dataframeName": "_sqldf",
        "executionCount": 17
       },
       "overflow": false,
       "plotOptions": {
        "customPlotOptions": {},
        "displayType": "table",
        "pivotAggregation": null,
        "pivotColumns": null,
        "xColumns": null,
        "yColumns": null
       },
       "removedWidgets": [],
       "schema": [
        {
         "metadata": "{}",
         "name": "hora",
         "type": "\"integer\""
        },
        {
         "metadata": "{}",
         "name": "qtd_passageiros",
         "type": "\"double\""
        }
       ],
       "type": "table"
      }
     },
     "output_type": "display_data"
    }
   ],
   "source": [
    "%sql\n",
    "-- passenger count yellow taxi \n",
    "select\n",
    "hour(tpep_pickup_datetime) AS hora,\n",
    "SUM(COALESCE(passenger_count)) as qtd_passageiros\n",
    "from df_y_med_pas_count\n",
    "where  tpep_pickup_datetime >= timestamp '2023-05-01'\n",
    "and tpep_pickup_datetime <  timestamp '2023-06-01'\n",
    "group by 1\n",
    "order by 1"
   ]
  },
  {
   "cell_type": "markdown",
   "metadata": {
    "application/vnd.databricks.v1+cell": {
     "cellMetadata": {},
     "inputWidgets": {},
     "nuid": "1ce0d1a1-126b-47c0-84f3-c7f6db94422a",
     "showTitle": false,
     "tableResultSettingsMap": {},
     "title": ""
    }
   },
   "source": [
    "**## Analise individual da quantidade de passageiros por hora no green taxi**"
   ]
  },
  {
   "cell_type": "code",
   "execution_count": 0,
   "metadata": {
    "application/vnd.databricks.v1+cell": {
     "cellMetadata": {
      "byteLimit": 2048000,
      "implicitDf": true,
      "rowLimit": 10000
     },
     "inputWidgets": {},
     "nuid": "dfc19cc7-40aa-4190-b2c1-6cfbf833caa6",
     "showTitle": false,
     "tableResultSettingsMap": {},
     "title": ""
    }
   },
   "outputs": [
    {
     "output_type": "display_data",
     "data": {
      "text/html": [
       "<style scoped>\n",
       "  .table-result-container {\n",
       "    max-height: 300px;\n",
       "    overflow: auto;\n",
       "  }\n",
       "  table, th, td {\n",
       "    border: 1px solid black;\n",
       "    border-collapse: collapse;\n",
       "  }\n",
       "  th, td {\n",
       "    padding: 5px;\n",
       "  }\n",
       "  th {\n",
       "    text-align: left;\n",
       "  }\n",
       "</style><div class='table-result-container'><table class='table-result'><thead style='background-color: white'><tr><th>hora</th><th>qtd_passageiros</th></tr></thead><tbody><tr><td>0</td><td>1612.0</td></tr><tr><td>1</td><td>1061.0</td></tr><tr><td>2</td><td>830.0</td></tr><tr><td>3</td><td>672.0</td></tr><tr><td>4</td><td>539.0</td></tr><tr><td>5</td><td>573.0</td></tr><tr><td>6</td><td>1517.0</td></tr><tr><td>7</td><td>3354.0</td></tr><tr><td>8</td><td>4019.0</td></tr><tr><td>9</td><td>4534.0</td></tr><tr><td>10</td><td>4486.0</td></tr><tr><td>11</td><td>4982.0</td></tr><tr><td>12</td><td>5005.0</td></tr><tr><td>13</td><td>4595.0</td></tr><tr><td>14</td><td>5551.0</td></tr><tr><td>15</td><td>5962.0</td></tr><tr><td>16</td><td>6371.0</td></tr><tr><td>17</td><td>6521.0</td></tr><tr><td>18</td><td>6738.0</td></tr><tr><td>19</td><td>5376.0</td></tr><tr><td>20</td><td>4340.0</td></tr><tr><td>21</td><td>3764.0</td></tr><tr><td>22</td><td>3085.0</td></tr><tr><td>23</td><td>2285.0</td></tr></tbody></table></div>"
      ]
     },
     "metadata": {
      "application/vnd.databricks.v1+output": {
       "addedWidgets": {},
       "aggData": [],
       "aggError": "",
       "aggOverflow": false,
       "aggSchema": [],
       "aggSeriesLimitReached": false,
       "aggType": "",
       "arguments": {},
       "columnCustomDisplayInfos": {},
       "data": [
        [
         0,
         1612.0
        ],
        [
         1,
         1061.0
        ],
        [
         2,
         830.0
        ],
        [
         3,
         672.0
        ],
        [
         4,
         539.0
        ],
        [
         5,
         573.0
        ],
        [
         6,
         1517.0
        ],
        [
         7,
         3354.0
        ],
        [
         8,
         4019.0
        ],
        [
         9,
         4534.0
        ],
        [
         10,
         4486.0
        ],
        [
         11,
         4982.0
        ],
        [
         12,
         5005.0
        ],
        [
         13,
         4595.0
        ],
        [
         14,
         5551.0
        ],
        [
         15,
         5962.0
        ],
        [
         16,
         6371.0
        ],
        [
         17,
         6521.0
        ],
        [
         18,
         6738.0
        ],
        [
         19,
         5376.0
        ],
        [
         20,
         4340.0
        ],
        [
         21,
         3764.0
        ],
        [
         22,
         3085.0
        ],
        [
         23,
         2285.0
        ]
       ],
       "datasetInfos": [
        {
         "name": "_sqldf",
         "schema": {
          "fields": [
           {
            "metadata": {},
            "name": "hora",
            "nullable": true,
            "type": "integer"
           },
           {
            "metadata": {},
            "name": "qtd_passageiros",
            "nullable": true,
            "type": "double"
           }
          ],
          "type": "struct"
         },
         "tableIdentifier": null,
         "typeStr": "pyspark.sql.connect.dataframe.DataFrame"
        }
       ],
       "dbfsResultPath": null,
       "isJsonSchema": true,
       "metadata": {
        "createTempViewForImplicitDf": true,
        "dataframeName": "_sqldf",
        "executionCount": 18
       },
       "overflow": false,
       "plotOptions": {
        "customPlotOptions": {},
        "displayType": "table",
        "pivotAggregation": null,
        "pivotColumns": null,
        "xColumns": null,
        "yColumns": null
       },
       "removedWidgets": [],
       "schema": [
        {
         "metadata": "{}",
         "name": "hora",
         "type": "\"integer\""
        },
        {
         "metadata": "{}",
         "name": "qtd_passageiros",
         "type": "\"double\""
        }
       ],
       "type": "table"
      }
     },
     "output_type": "display_data"
    }
   ],
   "source": [
    "%sql\n",
    "-- passenger count green taxi\n",
    "select\n",
    "hour(lpep_pickup_datetime) AS hora,\n",
    "round(sum(coalesce(passenger_count_imputed, 0)),0) as qtd_passageiros\n",
    "from df_g_med_pas_count\n",
    "where  lpep_pickup_datetime >= date '2023-05-01'\n",
    "and lpep_pickup_datetime <  date '2023-06-01'\n",
    "group by 1\n",
    "order by 1"
   ]
  },
  {
   "cell_type": "markdown",
   "metadata": {
    "application/vnd.databricks.v1+cell": {
     "cellMetadata": {},
     "inputWidgets": {},
     "nuid": "74a02976-22e5-4145-90f5-5e650aafa6f2",
     "showTitle": false,
     "tableResultSettingsMap": {},
     "title": ""
    }
   },
   "source": [
    "**## RESULTADO Q2: MÉDIA DE PASSAGEIROS POR HORA QUE PEGARAM TAXI NO MES DE MAIO CONSIDERANDO AMBAS AS FROTAS.**"
   ]
  },
  {
   "cell_type": "code",
   "execution_count": 0,
   "metadata": {
    "application/vnd.databricks.v1+cell": {
     "cellMetadata": {
      "byteLimit": 2048000,
      "implicitDf": true,
      "rowLimit": 10000
     },
     "inputWidgets": {},
     "nuid": "93830fe7-81d8-4574-9134-d2e1d745e50a",
     "showTitle": false,
     "tableResultSettingsMap": {},
     "title": ""
    }
   },
   "outputs": [
    {
     "output_type": "display_data",
     "data": {
      "text/html": [
       "<style scoped>\n",
       "  .table-result-container {\n",
       "    max-height: 300px;\n",
       "    overflow: auto;\n",
       "  }\n",
       "  table, th, td {\n",
       "    border: 1px solid black;\n",
       "    border-collapse: collapse;\n",
       "  }\n",
       "  th, td {\n",
       "    padding: 5px;\n",
       "  }\n",
       "  th {\n",
       "    text-align: left;\n",
       "  }\n",
       "</style><div class='table-result-container'><table class='table-result'><thead style='background-color: white'><tr><th>hora</th><th>media_passageiros</th></tr></thead><tbody><tr><td>0</td><td>67089.0</td></tr><tr><td>1</td><td>44027.0</td></tr><tr><td>2</td><td>28863.0</td></tr><tr><td>3</td><td>19011.0</td></tr><tr><td>4</td><td>12760.0</td></tr><tr><td>5</td><td>13200.0</td></tr><tr><td>6</td><td>31476.0</td></tr><tr><td>7</td><td>64310.0</td></tr><tr><td>8</td><td>88086.0</td></tr><tr><td>9</td><td>98819.0</td></tr><tr><td>10</td><td>109464.0</td></tr><tr><td>11</td><td>120270.0</td></tr><tr><td>12</td><td>130785.0</td></tr><tr><td>13</td><td>134392.0</td></tr><tr><td>14</td><td>147025.0</td></tr><tr><td>15</td><td>151661.0</td></tr><tr><td>16</td><td>151627.0</td></tr><tr><td>17</td><td>164460.0</td></tr><tr><td>18</td><td>173739.0</td></tr><tr><td>19</td><td>156332.0</td></tr><tr><td>20</td><td>139450.0</td></tr><tr><td>21</td><td>144294.0</td></tr><tr><td>22</td><td>134753.0</td></tr><tr><td>23</td><td>105232.0</td></tr></tbody></table></div>"
      ]
     },
     "metadata": {
      "application/vnd.databricks.v1+output": {
       "addedWidgets": {},
       "aggData": [],
       "aggError": "",
       "aggOverflow": false,
       "aggSchema": [],
       "aggSeriesLimitReached": false,
       "aggType": "",
       "arguments": {},
       "columnCustomDisplayInfos": {},
       "data": [
        [
         0,
         67089.0
        ],
        [
         1,
         44027.0
        ],
        [
         2,
         28863.0
        ],
        [
         3,
         19011.0
        ],
        [
         4,
         12760.0
        ],
        [
         5,
         13200.0
        ],
        [
         6,
         31476.0
        ],
        [
         7,
         64310.0
        ],
        [
         8,
         88086.0
        ],
        [
         9,
         98819.0
        ],
        [
         10,
         109464.0
        ],
        [
         11,
         120270.0
        ],
        [
         12,
         130785.0
        ],
        [
         13,
         134392.0
        ],
        [
         14,
         147025.0
        ],
        [
         15,
         151661.0
        ],
        [
         16,
         151627.0
        ],
        [
         17,
         164460.0
        ],
        [
         18,
         173739.0
        ],
        [
         19,
         156332.0
        ],
        [
         20,
         139450.0
        ],
        [
         21,
         144294.0
        ],
        [
         22,
         134753.0
        ],
        [
         23,
         105232.0
        ]
       ],
       "datasetInfos": [
        {
         "name": "_sqldf",
         "schema": {
          "fields": [
           {
            "metadata": {},
            "name": "hora",
            "nullable": true,
            "type": "integer"
           },
           {
            "metadata": {},
            "name": "media_passageiros",
            "nullable": true,
            "type": "double"
           }
          ],
          "type": "struct"
         },
         "tableIdentifier": null,
         "typeStr": "pyspark.sql.connect.dataframe.DataFrame"
        }
       ],
       "dbfsResultPath": null,
       "isJsonSchema": true,
       "metadata": {
        "createTempViewForImplicitDf": true,
        "dataframeName": "_sqldf",
        "executionCount": 19
       },
       "overflow": false,
       "plotOptions": {
        "customPlotOptions": {},
        "displayType": "table",
        "pivotAggregation": null,
        "pivotColumns": null,
        "xColumns": null,
        "yColumns": null
       },
       "removedWidgets": [],
       "schema": [
        {
         "metadata": "{}",
         "name": "hora",
         "type": "\"integer\""
        },
        {
         "metadata": "{}",
         "name": "media_passageiros",
         "type": "\"double\""
        }
       ],
       "type": "table"
      }
     },
     "output_type": "display_data"
    }
   ],
   "source": [
    "%sql\n",
    "--Analise da media de passageiros por hora que pegaram taxi no mes de maio de ambas as frotas\n",
    "with yellow as (\n",
    "select\n",
    "hour(tpep_pickup_datetime) AS hora,\n",
    "round(sum(passenger_count_imputed),0) as qtd_passageiros\n",
    "from df_y_med_pas_count\n",
    "where  tpep_pickup_datetime >= date '2023-05-01'\n",
    "and tpep_pickup_datetime <  date '2023-06-01'\n",
    "group by 1\n",
    "order by 1\n",
    "),\n",
    "green as (\n",
    "select\n",
    "hour(lpep_pickup_datetime) AS hora,\n",
    "round(sum(passenger_count_imputed),0) as qtd_passageiros\n",
    "from df_g_med_pas_count\n",
    "where  lpep_pickup_datetime >= date '2023-05-01'\n",
    "and lpep_pickup_datetime <  date '2023-06-01'\n",
    "group by 1\n",
    "order by 1\n",
    "),\n",
    "total as (\n",
    "select\n",
    "*\n",
    "from yellow\n",
    "union all\n",
    "select\n",
    "*\n",
    "from green\n",
    ")\n",
    "select \n",
    "hora,\n",
    "round(avg(qtd_passageiros),0) as media_passageiros\n",
    "from total\n",
    "group by 1\n",
    "order by 1"
   ]
  }
 ],
 "metadata": {
  "application/vnd.databricks.v1+notebook": {
   "computePreferences": null,
   "dashboards": [],
   "environmentMetadata": {
    "base_environment": "",
    "environment_version": "2"
   },
   "inputWidgetPreferences": null,
   "language": "python",
   "notebookMetadata": {
    "mostRecentlyExecutedCommandWithImplicitDF": {
     "commandId": 4650045149035856,
     "dataframes": [
      "_sqldf"
     ]
    },
    "pythonIndentUnit": 4
   },
   "notebookName": "Analyzing",
   "widgets": {}
  },
  "language_info": {
   "name": "python"
  }
 },
 "nbformat": 4,
 "nbformat_minor": 0
}