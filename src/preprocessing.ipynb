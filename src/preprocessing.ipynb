{
 "cells": [
  {
   "cell_type": "code",
   "execution_count": 0,
   "metadata": {
    "application/vnd.databricks.v1+cell": {
     "cellMetadata": {
      "byteLimit": 2048000,
      "rowLimit": 10000
     },
     "inputWidgets": {},
     "nuid": "d28a2a27-0a88-4dcd-b113-df88eda5511c",
     "showTitle": false,
     "tableResultSettingsMap": {},
     "title": ""
    }
   },
   "outputs": [],
   "source": [
    "#importando bibliotecas\n",
    "from pyspark.sql import functions\n",
    "from pyspark.sql.types import *\n",
    "from pyspark.sql.functions import *\n"
   ]
  },
  {
   "cell_type": "code",
   "execution_count": 0,
   "metadata": {
    "application/vnd.databricks.v1+cell": {
     "cellMetadata": {
      "byteLimit": 2048000,
      "rowLimit": 10000
     },
     "inputWidgets": {},
     "nuid": "e96bcd1f-094c-4001-b748-7f814b3ad4c5",
     "showTitle": false,
     "tableResultSettingsMap": {},
     "title": ""
    }
   },
   "outputs": [],
   "source": [
    "#lendo as tabelas da camada 'raw' nyc_taxi\n",
    "df_y = spark.table(\"workspace.nyc_taxi.yellow_taxi\")\n",
    "df_g = spark.table(\"workspace.nyc_taxi.green_taxi\")"
   ]
  },
  {
   "cell_type": "code",
   "execution_count": 0,
   "metadata": {
    "application/vnd.databricks.v1+cell": {
     "cellMetadata": {
      "byteLimit": 2048000,
      "rowLimit": 10000
     },
     "inputWidgets": {},
     "nuid": "ab6ad2d3-f934-40d0-bad0-5a893f63ced4",
     "showTitle": false,
     "tableResultSettingsMap": {},
     "title": ""
    }
   },
   "outputs": [],
   "source": [
    "#flagando as tabelas pelo tipo de taxi\n",
    "df_y= df_y.withColumn(\"taxi_color\", lit(\"yellow_taxi\"))\n",
    "df_g= df_g.withColumn(\"taxi_color\", lit(\"green_taxi\"))\n"
   ]
  },
  {
   "cell_type": "markdown",
   "metadata": {
    "application/vnd.databricks.v1+cell": {
     "cellMetadata": {},
     "inputWidgets": {},
     "nuid": "ae415c21-dc32-4a90-8fa4-738762e390b6",
     "showTitle": false,
     "tableResultSettingsMap": {},
     "title": ""
    }
   },
   "source": [
    "## Explorando e filtrando os dados"
   ]
  },
  {
   "cell_type": "code",
   "execution_count": 0,
   "metadata": {
    "application/vnd.databricks.v1+cell": {
     "cellMetadata": {
      "byteLimit": 2048000,
      "rowLimit": 10000
     },
     "inputWidgets": {},
     "nuid": "9973d4bd-4842-4126-bd52-06ccf59e30e6",
     "showTitle": false,
     "tableResultSettingsMap": {},
     "title": ""
    }
   },
   "outputs": [
    {
     "output_type": "stream",
     "name": "stdout",
     "output_type": "stream",
     "text": [
      "+-------------------------+\n|min(tpep_pickup_datetime)|\n+-------------------------+\n|      2001-01-01 00:06:49|\n+-------------------------+\n\n"
     ]
    }
   ],
   "source": [
    "df_y.select(min(\"tpep_pickup_datetime\")).show()\n",
    "#df_g.select(min(\"lpep_pickup_datetime\")).show()"
   ]
  },
  {
   "cell_type": "code",
   "execution_count": 0,
   "metadata": {
    "application/vnd.databricks.v1+cell": {
     "cellMetadata": {
      "byteLimit": 2048000,
      "rowLimit": 10000
     },
     "inputWidgets": {},
     "nuid": "cb02dc9a-7a2c-40c0-8501-28b496760ef6",
     "showTitle": false,
     "tableResultSettingsMap": {},
     "title": ""
    }
   },
   "outputs": [
    {
     "output_type": "stream",
     "name": "stdout",
     "output_type": "stream",
     "text": [
      "+-------------------------+\n|min(lpep_pickup_datetime)|\n+-------------------------+\n|      2008-12-31 22:41:41|\n+-------------------------+\n\n"
     ]
    }
   ],
   "source": [
    "df_g.select(min(\"lpep_pickup_datetime\")).show()"
   ]
  },
  {
   "cell_type": "code",
   "execution_count": 0,
   "metadata": {
    "application/vnd.databricks.v1+cell": {
     "cellMetadata": {
      "byteLimit": 2048000,
      "rowLimit": 10000
     },
     "inputWidgets": {},
     "nuid": "71a53527-866b-4772-beba-5eeed5abebe8",
     "showTitle": false,
     "tableResultSettingsMap": {},
     "title": ""
    }
   },
   "outputs": [],
   "source": [
    "df_y = df_y.filter(\n",
    "    (col(\"tpep_pickup_datetime\") >= \"2023-01-01\") & \n",
    "    (col(\"tpep_pickup_datetime\") < \"2023-06-01 \")\n",
    ")\n",
    "\n",
    "df_g = df_g.filter(\n",
    "    (col(\"lpep_pickup_datetime\") >= \"2023-01-01\") & \n",
    "    (col(\"lpep_pickup_datetime\") < \"2023-06-01 \")\n",
    ")\n"
   ]
  },
  {
   "cell_type": "code",
   "execution_count": 0,
   "metadata": {
    "application/vnd.databricks.v1+cell": {
     "cellMetadata": {
      "byteLimit": 2048000,
      "rowLimit": 10000
     },
     "inputWidgets": {},
     "nuid": "87c46bdb-8991-4288-934e-e847b2c87b67",
     "showTitle": false,
     "tableResultSettingsMap": {},
     "title": ""
    }
   },
   "outputs": [
    {
     "output_type": "execute_result",
     "data": {
      "text/plain": [
       "339621"
      ]
     },
     "execution_count": 10,
     "metadata": {},
     "output_type": "execute_result"
    }
   ],
   "source": [
    "df_g.count()"
   ]
  },
  {
   "cell_type": "code",
   "execution_count": 0,
   "metadata": {
    "application/vnd.databricks.v1+cell": {
     "cellMetadata": {
      "byteLimit": 2048000,
      "rowLimit": 10000
     },
     "inputWidgets": {},
     "nuid": "0745d35c-6967-4f32-84e7-2be78cc98903",
     "showTitle": false,
     "tableResultSettingsMap": {},
     "title": ""
    }
   },
   "outputs": [
    {
     "output_type": "stream",
     "name": "stdout",
     "output_type": "stream",
     "text": [
      "+-------------------------+\n|min(lpep_pickup_datetime)|\n+-------------------------+\n|      2023-01-01 00:01:31|\n+-------------------------+\n\n"
     ]
    }
   ],
   "source": [
    "df_g.select(min(\"lpep_pickup_datetime\")).show()"
   ]
  },
  {
   "cell_type": "code",
   "execution_count": 0,
   "metadata": {
    "application/vnd.databricks.v1+cell": {
     "cellMetadata": {
      "byteLimit": 2048000,
      "rowLimit": 10000
     },
     "inputWidgets": {},
     "nuid": "51214b32-92bc-4245-a0c4-fbd20342ebde",
     "showTitle": false,
     "tableResultSettingsMap": {},
     "title": ""
    }
   },
   "outputs": [
    {
     "output_type": "stream",
     "name": "stdout",
     "output_type": "stream",
     "text": [
      "+-------------------------+\n|max(lpep_pickup_datetime)|\n+-------------------------+\n|      2023-05-31 23:59:24|\n+-------------------------+\n\n"
     ]
    }
   ],
   "source": [
    "df_g.select(max(\"lpep_pickup_datetime\")).show()"
   ]
  },
  {
   "cell_type": "code",
   "execution_count": 0,
   "metadata": {
    "application/vnd.databricks.v1+cell": {
     "cellMetadata": {
      "byteLimit": 2048000,
      "rowLimit": 10000
     },
     "inputWidgets": {},
     "nuid": "dc6d010a-10aa-4fd8-8d1c-6f6056ccc318",
     "showTitle": false,
     "tableResultSettingsMap": {},
     "title": ""
    }
   },
   "outputs": [
    {
     "output_type": "stream",
     "name": "stdout",
     "output_type": "stream",
     "text": [
      "+-------------+--------------------+\n|null_vendorid|null_passenger_count|\n+-------------+--------------------+\n|     13119554|            13191297|\n+-------------+--------------------+\n\n"
     ]
    }
   ],
   "source": [
    "from pyspark.sql.functions import sum as spark_sum\n",
    "df_y.select([\n",
    "    spark_sum(col('VendorID').isNull().cast('int')).alias('null_vendorid'),\n",
    "    spark_sum(col(\"passenger_count\").isNull().cast('int')).alias('null_passenger_count')]).show()"
   ]
  },
  {
   "cell_type": "code",
   "execution_count": 0,
   "metadata": {
    "application/vnd.databricks.v1+cell": {
     "cellMetadata": {
      "byteLimit": 2048000,
      "rowLimit": 10000
     },
     "inputWidgets": {},
     "nuid": "3914b116-f78a-4bd1-8ecb-48faf492cde2",
     "showTitle": false,
     "tableResultSettingsMap": {},
     "title": ""
    }
   },
   "outputs": [
    {
     "output_type": "stream",
     "name": "stdout",
     "output_type": "stream",
     "text": [
      "+-------------+--------------------+\n|null_vendorid|null_passenger_count|\n+-------------+--------------------+\n|       271413|              275737|\n+-------------+--------------------+\n\n"
     ]
    }
   ],
   "source": [
    "df_g.select([\n",
    "    spark_sum(col('VendorID').isNull().cast('int')).alias('null_vendorid'),\n",
    "    spark_sum(col(\"passenger_count\").isNull().cast('int')).alias('null_passenger_count')]).show()"
   ]
  },
  {
   "cell_type": "markdown",
   "metadata": {
    "application/vnd.databricks.v1+cell": {
     "cellMetadata": {},
     "inputWidgets": {},
     "nuid": "08b07430-f958-4202-8bf2-434ff7f2b69c",
     "showTitle": false,
     "tableResultSettingsMap": {},
     "title": ""
    }
   },
   "source": [
    "## Tratando os dados da coluna em formato json e preenchendo os valores null\n"
   ]
  },
  {
   "cell_type": "code",
   "execution_count": 0,
   "metadata": {
    "application/vnd.databricks.v1+cell": {
     "cellMetadata": {
      "byteLimit": 2048000,
      "rowLimit": 10000
     },
     "inputWidgets": {},
     "nuid": "0077a356-38cc-44ae-b719-f43e1a18c803",
     "showTitle": false,
     "tableResultSettingsMap": {},
     "title": ""
    }
   },
   "outputs": [],
   "source": [
    "def extract_fields_from_json(\n",
    "    df,\n",
    "    json_column,\n",
    "    fields_and_types,  # Exemplo: [(\"VendorID\", IntegerType()), (\"passenger_count\", IntegerType())]\n",
    "    output_aliases      # Exemplo: [\"VendorID_rescued\", \"passenger_count_rescued\"]\n",
    "):\n",
    "    # Monta o schema apenas com os campos indicados\n",
    "    rescued_schema = StructType([\n",
    "        StructField(f, t, True) for f, t in fields_and_types\n",
    "    ])\n",
    "    # Faz o parsing da coluna json para Struct\n",
    "    df2 = df.withColumn(\n",
    "        \"_temp_rescued_struct\",\n",
    "        from_json(col(json_column), rescued_schema)\n",
    "    )\n",
    "    # Cria as colunas com os aliases desejados\n",
    "    for idx, alias in enumerate(output_aliases):\n",
    "        df2 = df2.withColumn(alias, col(f\"_temp_rescued_struct.{fields_and_types[idx][0]}\"))\n",
    "    # Limpa coluna temporária\n",
    "    df2 = df2.drop(\"_temp_rescued_struct\")\n",
    "    return df2"
   ]
  },
  {
   "cell_type": "code",
   "execution_count": 0,
   "metadata": {
    "application/vnd.databricks.v1+cell": {
     "cellMetadata": {
      "byteLimit": 2048000,
      "rowLimit": 10000
     },
     "inputWidgets": {},
     "nuid": "c4299ebc-5a80-44c8-8e9c-b571be660a4f",
     "showTitle": false,
     "tableResultSettingsMap": {},
     "title": ""
    }
   },
   "outputs": [],
   "source": [
    "# Campos que você quer extrair, com tipos\n",
    "fields_and_types = [\n",
    "    (\"VendorID\", IntegerType()),\n",
    "    (\"passenger_count\", IntegerType())\n",
    "]\n",
    "# Alias na saída desejado\n",
    "output_aliases = [\"VendorID_resc_data\", \"passenger_count_resc_data\"]\n",
    "\n",
    "dfy_out = extract_fields_from_json(df_y, \"_rescued_data\", fields_and_types, output_aliases)\n",
    "dfg_out = extract_fields_from_json(df_g, \"_rescued_data\", fields_and_types, output_aliases)"
   ]
  },
  {
   "cell_type": "code",
   "execution_count": 0,
   "metadata": {
    "application/vnd.databricks.v1+cell": {
     "cellMetadata": {
      "byteLimit": 2048000,
      "rowLimit": 10000
     },
     "inputWidgets": {},
     "nuid": "eee40dc8-0aae-4068-9107-fbe9f0cc5b0d",
     "showTitle": false,
     "tableResultSettingsMap": {},
     "title": ""
    }
   },
   "outputs": [
    {
     "output_type": "stream",
     "name": "stdout",
     "output_type": "stream",
     "text": [
      "+-------------+-------------------+--------------------+-------------------------+\n|null_vendorid|null_vendor_id_resc|null_passenger_count|null_passenger_count_resc|\n+-------------+-------------------+--------------------+-------------------------+\n|     13119554|            3066728|            13191297|                  3423650|\n+-------------+-------------------+--------------------+-------------------------+\n\n"
     ]
    }
   ],
   "source": [
    "from pyspark.sql.functions import sum as spark_sum\n",
    "dfy_out.select([\n",
    "    spark_sum(col('VendorID').isNull().cast('int')).alias('null_vendorid'),\n",
    "    spark_sum(col(\"VendorID_resc_data\").isNull().cast('int')).alias('null_vendor_id_resc'),\n",
    "    spark_sum(col(\"passenger_count\").isNull().cast('int')).alias('null_passenger_count'),\n",
    "    spark_sum(col('passenger_count_resc_data').isNull().cast('int')).alias('null_passenger_count_resc')\n",
    "]).show()"
   ]
  },
  {
   "cell_type": "code",
   "execution_count": 0,
   "metadata": {
    "application/vnd.databricks.v1+cell": {
     "cellMetadata": {
      "byteLimit": 2048000,
      "rowLimit": 10000
     },
     "inputWidgets": {},
     "nuid": "8a62ad5e-f7db-426b-901b-a42d8f5daa08",
     "showTitle": false,
     "tableResultSettingsMap": {},
     "title": ""
    }
   },
   "outputs": [
    {
     "output_type": "stream",
     "name": "stdout",
     "output_type": "stream",
     "text": [
      "+-------------+-------------------+--------------------+-------------------------+\n|null_vendorid|null_vendor_id_resc|null_passenger_count|null_passenger_count_resc|\n+-------------+-------------------+--------------------+-------------------------+\n|       271413|              68208|              275737|                    86780|\n+-------------+-------------------+--------------------+-------------------------+\n\n"
     ]
    }
   ],
   "source": [
    "dfg_out.select([\n",
    "    spark_sum(col('VendorID').isNull().cast('int')).alias('null_vendorid'),\n",
    "    spark_sum(col(\"VendorID_resc_data\").isNull().cast('int')).alias('null_vendor_id_resc'),\n",
    "    spark_sum(col(\"passenger_count\").isNull().cast('int')).alias('null_passenger_count'),\n",
    "    spark_sum(col('passenger_count_resc_data').isNull().cast('int')).alias('null_passenger_count_resc')\n",
    "]).show()"
   ]
  },
  {
   "cell_type": "code",
   "execution_count": 0,
   "metadata": {
    "application/vnd.databricks.v1+cell": {
     "cellMetadata": {
      "byteLimit": 2048000,
      "rowLimit": 10000
     },
     "inputWidgets": {},
     "nuid": "63fb07ea-68d0-4cce-a8b6-3eb280887d6a",
     "showTitle": false,
     "tableResultSettingsMap": {},
     "title": ""
    }
   },
   "outputs": [],
   "source": [
    "#coalesce para preencher os dados de vendorID e de passenger_count que estavam faltando com os valores do rescued_data.\n",
    "dfy_out = (\n",
    "dfy_out.withColumn(\"VendorID\",coalesce(col(\"VendorID\"), col(\"VendorID_resc_data\")))\n",
    "       .withColumn(\"passenger_count\",coalesce(col(\"passenger_count\"), col(\"passenger_count_resc_data\")))\n",
    "    )\n",
    "\n",
    "dfg_out = (\n",
    "dfg_out.withColumn(\"VendorID\",coalesce(col(\"VendorID\"), col(\"VendorID_resc_data\")))\n",
    "       .withColumn(\"passenger_count\",coalesce(col(\"passenger_count\"), col(\"passenger_count_resc_data\")))\n",
    "    )"
   ]
  },
  {
   "cell_type": "code",
   "execution_count": 0,
   "metadata": {
    "application/vnd.databricks.v1+cell": {
     "cellMetadata": {
      "byteLimit": 2048000,
      "rowLimit": 10000
     },
     "inputWidgets": {},
     "nuid": "d942066c-82b6-44c1-aa85-ec593ea1a3c0",
     "showTitle": false,
     "tableResultSettingsMap": {},
     "title": ""
    }
   },
   "outputs": [],
   "source": [
    "#Acho que aqui vale a pena renomear para o nome das colunas originais\n",
    "#dfy_out = dfy_out.withColumnRenamed(\"VendorID_final\",\"VendorID\").withColumnRenamed(\"passenger_count_final\",\"passenger_count\")\n",
    "#dfg_out = dfg_out.withColumnRenamed(\"VendorID_final\",\"VendorID\").withColumnRenamed(\"passenger_count_final\",\"passenger_count\")"
   ]
  },
  {
   "cell_type": "code",
   "execution_count": 0,
   "metadata": {
    "application/vnd.databricks.v1+cell": {
     "cellMetadata": {
      "byteLimit": 2048000,
      "rowLimit": 10000
     },
     "inputWidgets": {},
     "nuid": "ec62380a-c499-4f1b-86da-b976c0675cc5",
     "showTitle": false,
     "tableResultSettingsMap": {},
     "title": ""
    }
   },
   "outputs": [],
   "source": [
    "#colunas solicitadas no case\n",
    "df_y_filt = dfy_out.select(\"VendorID\",\"passenger_count\",\"total_amount\",\"tpep_pickup_datetime\",\"tpep_dropoff_datetime\",\"taxi_color\")\n",
    "df_g_filt = dfg_out.select(\"VendorID\",\"passenger_count\",\"total_amount\",\"lpep_pickup_datetime\",\"lpep_dropoff_datetime\",\"taxi_color\")"
   ]
  },
  {
   "cell_type": "code",
   "execution_count": 0,
   "metadata": {
    "application/vnd.databricks.v1+cell": {
     "cellMetadata": {
      "byteLimit": 2048000,
      "rowLimit": 10000
     },
     "inputWidgets": {},
     "nuid": "36c786e1-3875-4f8c-8013-a92e1dc00d58",
     "showTitle": false,
     "tableResultSettingsMap": {},
     "title": ""
    }
   },
   "outputs": [
    {
     "output_type": "stream",
     "name": "stdout",
     "output_type": "stream",
     "text": [
      "+-------------+--------------------+\n|null_vendorid|null_passenger_count|\n+-------------+--------------------+\n|            0|               22896|\n+-------------+--------------------+\n\n"
     ]
    }
   ],
   "source": [
    "df_g_filt.select([\n",
    "    spark_sum(col('VendorID').isNull().cast('int')).alias('null_vendorid'),\n",
    "    spark_sum(col(\"passenger_count\").isNull().cast('int')).alias('null_passenger_count')\n",
    "]).show()"
   ]
  },
  {
   "cell_type": "code",
   "execution_count": 0,
   "metadata": {
    "application/vnd.databricks.v1+cell": {
     "cellMetadata": {
      "byteLimit": 2048000,
      "rowLimit": 10000
     },
     "inputWidgets": {},
     "nuid": "4a3865ee-2aca-4e3c-9496-d7946b4127b9",
     "showTitle": false,
     "tableResultSettingsMap": {},
     "title": ""
    }
   },
   "outputs": [
    {
     "output_type": "stream",
     "name": "stdout",
     "output_type": "stream",
     "text": [
      "+-------------+--------------------+\n|null_vendorid|null_passenger_count|\n+-------------+--------------------+\n|            0|              428665|\n+-------------+--------------------+\n\n"
     ]
    }
   ],
   "source": [
    "df_y_filt.select([\n",
    "    spark_sum(col('VendorID').isNull().cast('int')).alias('null_vendorid'),\n",
    "    spark_sum(col(\"passenger_count\").isNull().cast('int')).alias('null_passenger_count')\n",
    "]).show()"
   ]
  },
  {
   "cell_type": "markdown",
   "metadata": {
    "application/vnd.databricks.v1+cell": {
     "cellMetadata": {},
     "inputWidgets": {},
     "nuid": "b773f22f-bbc5-456a-9f23-e9365021c878",
     "showTitle": false,
     "tableResultSettingsMap": {},
     "title": ""
    }
   },
   "source": [
    "## Enviando os dados tratados para a camada de consumo"
   ]
  },
  {
   "cell_type": "code",
   "execution_count": 0,
   "metadata": {
    "application/vnd.databricks.v1+cell": {
     "cellMetadata": {
      "byteLimit": 2048000,
      "rowLimit": 10000
     },
     "inputWidgets": {},
     "nuid": "dc234322-4294-42b4-962e-b871abe0e473",
     "showTitle": false,
     "tableResultSettingsMap": {},
     "title": ""
    }
   },
   "outputs": [],
   "source": [
    "path_consumo_y = \"s3://datalake-joao/consumo/yellow_taxi_curated\"\n",
    "df_y_filt.write.format(\"delta\").mode(\"overwrite\").save(path_consumo_y)\n"
   ]
  },
  {
   "cell_type": "code",
   "execution_count": 0,
   "metadata": {
    "application/vnd.databricks.v1+cell": {
     "cellMetadata": {
      "byteLimit": 2048000,
      "rowLimit": 10000
     },
     "inputWidgets": {},
     "nuid": "448a8aa2-fe45-4075-b8a0-eda07173e763",
     "showTitle": false,
     "tableResultSettingsMap": {},
     "title": ""
    }
   },
   "outputs": [],
   "source": [
    "path_consumo_g = \"s3://datalake-joao/consumo/green_taxi_curated\"\n",
    "df_g_filt.write.format(\"delta\").mode(\"overwrite\").save(path_consumo_g)"
   ]
  },
  {
   "cell_type": "code",
   "execution_count": 0,
   "metadata": {
    "application/vnd.databricks.v1+cell": {
     "cellMetadata": {
      "byteLimit": 2048000,
      "implicitDf": true,
      "rowLimit": 10000
     },
     "inputWidgets": {},
     "nuid": "c85796ac-4aa0-466e-a168-d6869b59144e",
     "showTitle": false,
     "tableResultSettingsMap": {},
     "title": ""
    }
   },
   "outputs": [],
   "source": [
    "%sql\n",
    "CREATE SCHEMA IF NOT EXISTS curated_nyc_taxi;"
   ]
  },
  {
   "cell_type": "code",
   "execution_count": 0,
   "metadata": {
    "application/vnd.databricks.v1+cell": {
     "cellMetadata": {
      "byteLimit": 2048000,
      "implicitDf": true,
      "rowLimit": 10000
     },
     "inputWidgets": {},
     "nuid": "2809fb01-c672-4757-9968-3141f07d0a38",
     "showTitle": false,
     "tableResultSettingsMap": {},
     "title": ""
    }
   },
   "outputs": [],
   "source": [
    "%sql\n",
    "DROP TABLE IF EXISTS curated_nyc_taxi.green_taxi_curated;\n",
    "\n",
    "CREATE TABLE curated_nyc_taxi.green_taxi_curated\n",
    "USING DELTA\n",
    "LOCATION 's3://datalake-joao/consumo/green_taxi_curated'"
   ]
  },
  {
   "cell_type": "code",
   "execution_count": 0,
   "metadata": {
    "application/vnd.databricks.v1+cell": {
     "cellMetadata": {
      "byteLimit": 2048000,
      "implicitDf": true,
      "rowLimit": 10000
     },
     "inputWidgets": {},
     "nuid": "ec511750-2e03-4155-8cba-cc8ea83e2421",
     "showTitle": false,
     "tableResultSettingsMap": {},
     "title": ""
    }
   },
   "outputs": [],
   "source": [
    "%sql\n",
    "DROP TABLE IF EXISTS curated_nyc_taxi.yellow_taxi_curated;\n",
    "\n",
    "CREATE TABLE curated_nyc_taxi.yellow_taxi_curated\n",
    "USING DELTA\n",
    "LOCATION 's3://datalake-joao/consumo/yellow_taxi_curated'"
   ]
  }
 ],
 "metadata": {
  "application/vnd.databricks.v1+notebook": {
   "computePreferences": null,
   "dashboards": [],
   "environmentMetadata": {
    "base_environment": "",
    "environment_version": "2"
   },
   "inputWidgetPreferences": null,
   "language": "python",
   "notebookMetadata": {
    "mostRecentlyExecutedCommandWithImplicitDF": {
     "commandId": 8443868404684035,
     "dataframes": [
      "_sqldf"
     ]
    },
    "pythonIndentUnit": 4
   },
   "notebookName": "Preprocessing",
   "widgets": {}
  },
  "language_info": {
   "name": "python"
  }
 },
 "nbformat": 4,
 "nbformat_minor": 0
}